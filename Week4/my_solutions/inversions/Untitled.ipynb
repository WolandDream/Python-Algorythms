{
 "cells": [
  {
   "cell_type": "code",
   "execution_count": 227,
   "metadata": {
    "collapsed": false,
    "deletable": true,
    "editable": true
   },
   "outputs": [
    {
     "name": "stdout",
     "output_type": "stream",
     "text": [
      "[2, 2, 2, 2, 3, 9, 9]\n",
      "8\n"
     ]
    }
   ],
   "source": [
    "def merge(b,c):\n",
    "    global number_of_inv\n",
    "    d = []\n",
    "    while b != [] and c != []:\n",
    "        if b[0] <= c[0]:\n",
    "            d.append(b[0])\n",
    "            b.remove(b[0])\n",
    "        else:\n",
    "            number_of_inv += len(b)\n",
    "            d.append(c[0])\n",
    "            c.remove(c[0])\n",
    "    else:\n",
    "        d += b + c\n",
    "    return d\n",
    "        \n",
    "def merge_sort(a):\n",
    "    #print(len(a))\n",
    "    if len(a) == 1:\n",
    "        return a\n",
    "    mid = len(a) // 2\n",
    "    b = merge_sort(a[0:mid])\n",
    "    c = merge_sort(a[mid:len(a)])\n",
    "    a_sorted = merge(b, c)\n",
    "    #print(a_sorted)\n",
    "    return a_sorted\n",
    "\n",
    "number_of_inv = 0\n",
    "print (merge_sort([2, 3, 9, 2, 9, 2, 2]))\n",
    "print(number_of_inv)"
   ]
  }
 ],
 "metadata": {
  "kernelspec": {
   "display_name": "Python 3",
   "language": "python",
   "name": "python3"
  },
  "language_info": {
   "codemirror_mode": {
    "name": "ipython",
    "version": 3
   },
   "file_extension": ".py",
   "mimetype": "text/x-python",
   "name": "python",
   "nbconvert_exporter": "python",
   "pygments_lexer": "ipython3",
   "version": "3.5.1"
  }
 },
 "nbformat": 4,
 "nbformat_minor": 2
}
